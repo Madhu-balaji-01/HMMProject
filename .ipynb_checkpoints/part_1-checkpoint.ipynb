{
 "cells": [
  {
   "cell_type": "code",
   "execution_count": 1,
   "metadata": {},
   "outputs": [],
   "source": [
    "from part1 import *"
   ]
  },
  {
   "cell_type": "code",
   "execution_count": null,
   "metadata": {},
   "outputs": [],
   "source": [
    "def labelling(inp,emission_dict,observations):\n",
    "    \n",
    "    return_list = []\n",
    "    \n",
    "    for i in inp:\n",
    "        prob = 0\n",
    "        state = \"\"\n",
    "        \n",
    "        for y in emission_dict:\n",
    "            \n",
    "            if i not in observations:\n",
    "                i = \"#UNK#\"\n",
    "                \n",
    "            if ((i == \"#UNK#\") or (i in emission_dict[y])):\n",
    "                \n",
    "                if estimate_emission_param(emission_dict,i,y,1) > prob:\n",
    "                    prob = estimate_emission_param(emission_dict,i,y,1)\n",
    "                    state = y\n",
    "                    \n",
    "        return_list.append(state)\n",
    "        \n",
    "    return return_list\n",
    "    "
   ]
  }
 ],
 "metadata": {
  "kernelspec": {
   "display_name": "Python 3",
   "language": "python",
   "name": "python3"
  },
  "language_info": {
   "codemirror_mode": {
    "name": "ipython",
    "version": 3
   },
   "file_extension": ".py",
   "mimetype": "text/x-python",
   "name": "python",
   "nbconvert_exporter": "python",
   "pygments_lexer": "ipython3",
   "version": "3.7.6"
  }
 },
 "nbformat": 4,
 "nbformat_minor": 4
}
