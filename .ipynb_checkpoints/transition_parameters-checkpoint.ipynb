{
 "cells": [
  {
   "cell_type": "code",
   "execution_count": 1,
   "metadata": {},
   "outputs": [],
   "source": [
    "import random as rand\n",
    "import os"
   ]
  },
  {
   "cell_type": "markdown",
   "metadata": {},
   "source": [
    "## Helper Functions"
   ]
  },
  {
   "cell_type": "code",
   "execution_count": 2,
   "metadata": {},
   "outputs": [],
   "source": [
    "def data_dump(path):\n",
    "    \n",
    "    with open(path, \"r\", encoding=\"cp437\", errors='ignore') as f:\n",
    "        \n",
    "        sequence_list = []\n",
    "        \n",
    "        for entry in f.read().split(\"\\n\\n\")[:-1]:\n",
    "            sequence_list.append(entry.split(\"\\n\"))\n",
    "            \n",
    "        return sequence_list\n",
    "\n",
    "def data_dump_split(path):\n",
    "    \n",
    "    with open(path, \"r\", encoding=\"cp437\", errors='ignore') as f:\n",
    "        \n",
    "        sequence_list = []\n",
    "        temp1 = []\n",
    "        temp2 = []\n",
    "        \n",
    "        for entry in f.read().split(\"\\n\\n\")[:-1]:\n",
    "            temp1.append(entry.split(\"\\n\"))\n",
    "            \n",
    "        for sequence in temp1:\n",
    "            for i in sequence:\n",
    "                temp2.append([i.split()])\n",
    "            \n",
    "        for sequence in temp2:\n",
    "            for i in sequence:\n",
    "                sequence_list.append([i[0], i[1]])\n",
    "                \n",
    "        return sequence_list\n",
    "    \n",
    "    \n",
    "    \n",
    "def data_dump_shuffle(path):\n",
    "    \n",
    "    with open(path, \"r\", encoding=\"cp437\", errors='ignore') as f:\n",
    "        \n",
    "        sequence_list = []\n",
    "        \n",
    "        for entry in f.read().split(\"\\n\\n\")[:-1]:\n",
    "            sequence_list.append(entry.split(\"\\n\"))\n",
    "        \n",
    "        rand.shuffle(sequence_list)\n",
    "            \n",
    "        return sequence_list"
   ]
  },
  {
   "cell_type": "markdown",
   "metadata": {},
   "source": [
    "## Transition Parameters"
   ]
  },
  {
   "cell_type": "code",
   "execution_count": 52,
   "metadata": {},
   "outputs": [],
   "source": [
    "def transition_counting(path):\n",
    "    \n",
    "    temp_list = data_dump(path)\n",
    "    \n",
    "    start_state = \"START\"\n",
    "    stop_state = \"STOP\"\n",
    "    \n",
    "    state_i1 = start_state\n",
    "    end_sentence = False\n",
    "    \n",
    "    transition_dict = {}\n",
    "    \n",
    "    for i in temp_list:\n",
    "        \n",
    "        if end_sentence == False:\n",
    "            \n",
    "            for j in i:\n",
    "            \n",
    "                #if j!= (i[len(i) - 1]):\n",
    "                \n",
    "                word = j\n",
    "                word = word.rsplit(\" \")\n",
    "                state_i2 = word[1]\n",
    "            \n",
    "                if state_i1 not in transition_dict:\n",
    "                    state_i1_dict = {}\n",
    "                else:\n",
    "                    state_i1_dict = transition_dict[state_i1]\n",
    "            \n",
    "                if state_i2 in state_i1_dict:\n",
    "                    state_i1_dict[state_i2] += 1\n",
    "                else:\n",
    "                    state_i1_dict[state_i2] = 1\n",
    "                    \n",
    "                transition_dict[state_i1] = state_i1_dict\n",
    "                state_i1 = state_i2\n",
    "                \n",
    "                if j == i[len(i) - 1]:\n",
    "                    end_sentence = True\n",
    "                    \n",
    "        if end_sentence == True:\n",
    "          \n",
    "            if state_i1 not in transition_dict:\n",
    "                state_i1_dict = {}\n",
    "            else:\n",
    "                state_i1_dict = transition_dict[state_i1]\n",
    "\n",
    "            state_i2 = stop_state\n",
    "            \n",
    "            if state_i2 in state_i1_dict:\n",
    "                state_i1_dict[state_i2] += 1\n",
    "            else:\n",
    "                state_i1_dict[state_i2] = 1\n",
    "                \n",
    "            transition_dict[state_i1] = state_i1_dict\n",
    "            state_i1 = start_state\n",
    "            end_sentence = False\n",
    "                \n",
    "    return transition_dict"
   ]
  },
  {
   "cell_type": "code",
   "execution_count": 53,
   "metadata": {},
   "outputs": [
    {
     "data": {
      "text/plain": [
       "{'START': {'O': 1918, 'B-negative': 27, 'B-positive': 110, 'B-neutral': 10},\n",
       " 'O': {'O': 27939,\n",
       "  'B-positive': 1162,\n",
       "  'STOP': 2050,\n",
       "  'B-negative': 402,\n",
       "  'B-neutral': 74},\n",
       " 'B-positive': {'O': 1100,\n",
       "  'I-positive': 162,\n",
       "  'B-positive': 2,\n",
       "  'STOP': 9,\n",
       "  'B-neutral': 1},\n",
       " 'B-negative': {'O': 347, 'I-negative': 78, 'STOP': 4},\n",
       " 'I-negative': {'I-negative': 151, 'O': 78},\n",
       " 'I-positive': {'O': 160, 'I-positive': 238, 'STOP': 2},\n",
       " 'B-neutral': {'O': 69, 'I-neutral': 16},\n",
       " 'I-neutral': {'O': 16, 'I-neutral': 28}}"
      ]
     },
     "execution_count": 53,
     "metadata": {},
     "output_type": "execute_result"
    }
   ],
   "source": [
    "transition_counting('train')"
   ]
  },
  {
   "cell_type": "code",
   "execution_count": 57,
   "metadata": {},
   "outputs": [],
   "source": [
    "def get_transition_parameters(transition_dict, state_i1, state_i2):\n",
    "    \n",
    "    if state_i1 not in transition_dict:\n",
    "        fraction = 0   \n",
    "    else:\n",
    "        state_i1_dict = transition_dict[state_i1]\n",
    "    \n",
    "    if state_i2 in state_i1_dict:\n",
    "        numerator = state_i1_dict[state_i2]\n",
    "    else:\n",
    "        numerator = 0\n",
    "        \n",
    "    denominator = sum(state_i1_dict.values())\n",
    "    fraction = numerator / denominator\n",
    "    \n",
    "    return fraction"
   ]
  },
  {
   "cell_type": "code",
   "execution_count": null,
   "metadata": {},
   "outputs": [],
   "source": []
  }
 ],
 "metadata": {
  "kernelspec": {
   "display_name": "Python 3",
   "language": "python",
   "name": "python3"
  },
  "language_info": {
   "codemirror_mode": {
    "name": "ipython",
    "version": 3
   },
   "file_extension": ".py",
   "mimetype": "text/x-python",
   "name": "python",
   "nbconvert_exporter": "python",
   "pygments_lexer": "ipython3",
   "version": "3.7.6"
  }
 },
 "nbformat": 4,
 "nbformat_minor": 4
}
