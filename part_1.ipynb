{
 "cells": [
  {
   "cell_type": "code",
   "execution_count": 4,
   "metadata": {},
   "outputs": [],
   "source": [
    "from part1 import *\n",
    "from utils import *"
   ]
  },
  {
   "cell_type": "code",
   "execution_count": 5,
   "metadata": {},
   "outputs": [
    {
     "data": {
      "text/plain": [
       "dict_keys(['O', 'B-positive', 'B-negative', 'I-negative', 'I-positive', 'B-neutral', 'I-neutral'])"
      ]
     },
     "execution_count": 5,
     "metadata": {},
     "output_type": "execute_result"
    }
   ],
   "source": [
    "a,b = emission_counting('train')\n",
    "b.keys()"
   ]
  },
  {
   "cell_type": "code",
   "execution_count": 6,
   "metadata": {},
   "outputs": [],
   "source": [
    "all_prediction = final_answers_part1('ES')\n",
    "\n",
    "with open('./ES/dev.in', \"r\", encoding=\"utf8\") as f:\n",
    "            lines = f.readlines()\n",
    "\n",
    "with open('./ES/dev.p1.out', \"w\", encoding=\"utf8\") as g:\n",
    "    for j in range(len(lines)):\n",
    "        word = lines[j].strip()\n",
    "        if word != \"\\n\":\n",
    "            tag = all_prediction[j]\n",
    "            if(tag != \"\\n\"):\n",
    "                g.write(word + \" \" + tag)\n",
    "                g.write(\"\\n\")\n",
    "            else:\n",
    "                g.write(\"\\n\")\n",
    "                \n",
    "all_prediction = final_answers_part1('RU')\n",
    "                \n",
    "with open('./RU/dev.in', \"r\", encoding=\"utf8\") as f:\n",
    "            lines = f.readlines()\n",
    "\n",
    "with open('./RU/dev.p1.out', \"w\", encoding=\"utf8\") as g:\n",
    "    for j in range(len(lines)):\n",
    "        word = lines[j].strip()\n",
    "        if word != \"\\n\":\n",
    "            tag = all_prediction[j]\n",
    "            if(tag != \"\\n\"):\n",
    "                g.write(word + \" \" + tag)\n",
    "                g.write(\"\\n\")\n",
    "            else:\n",
    "                g.write(\"\\n\")"
   ]
  },
  {
   "cell_type": "code",
   "execution_count": null,
   "metadata": {},
   "outputs": [],
   "source": []
  }
 ],
 "metadata": {
  "kernelspec": {
   "display_name": "Python 3",
   "language": "python",
   "name": "python3"
  },
  "language_info": {
   "codemirror_mode": {
    "name": "ipython",
    "version": 3
   },
   "file_extension": ".py",
   "mimetype": "text/x-python",
   "name": "python",
   "nbconvert_exporter": "python",
   "pygments_lexer": "ipython3",
   "version": "3.7.6"
  }
 },
 "nbformat": 4,
 "nbformat_minor": 4
}
